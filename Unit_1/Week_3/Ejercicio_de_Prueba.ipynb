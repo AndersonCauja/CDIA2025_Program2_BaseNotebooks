{
 "cells": [
  {
   "cell_type": "markdown",
   "id": "e79d30c8",
   "metadata": {},
   "source": [
    "# Prueba de git"
   ]
  }
 ],
 "metadata": {
  "language_info": {
   "name": "python"
  }
 },
 "nbformat": 4,
 "nbformat_minor": 5
}
