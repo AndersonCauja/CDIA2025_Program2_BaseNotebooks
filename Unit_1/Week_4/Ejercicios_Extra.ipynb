{
 "cells": [
  {
   "cell_type": "markdown",
   "id": "766b8d7f",
   "metadata": {},
   "source": [
    "# Programación Orientada a Objetos: Pilares y Métodos de Acceso\n",
    "\n",
    "## Ejercicio Resuelto 1: Encapsulamiento"
   ]
  },
  {
   "cell_type": "code",
   "execution_count": null,
   "id": "dfaffb55",
   "metadata": {},
   "outputs": [],
   "source": [
    "class Persona:\n",
    "    def __init__(self, nombre, edad):\n",
    "        self.__nombre = nombre\n",
    "        self.__edad = edad\n",
    "\n",
    "    def get_nombre(self):\n",
    "        return self.__nombre\n",
    "\n",
    "    def set_edad(self, edad):\n",
    "        if edad > 0:\n",
    "            self.__edad = edad\n",
    "        else:\n",
    "            raise ValueError(\"Edad debe ser positiva.\")\n",
    "\n",
    "    def get_edad(self):\n",
    "        return self.__edad\n",
    "\n",
    "# Uso de la clase Persona\n",
    "persona1 = Persona(\"Ana\", 30)\n",
    "print(f\"Nombre: {persona1.get_nombre()}, Edad: {persona1.get_edad()}\")\n",
    "persona1.set_edad(31)\n",
    "print(f\"Edad actualizada: {persona1.get_edad()}\")"
   ]
  },
  {
   "cell_type": "code",
   "execution_count": null,
   "id": "c7e87d03",
   "metadata": {},
   "outputs": [],
   "source": [
    "class Vehiculo:\n",
    "    def __init__(self, marca, modelo):\n",
    "        self.marca = marca\n",
    "        self.modelo = modelo\n",
    "\n",
    "    def describir(self):\n",
    "        return f\"Marca: {self.marca}, Modelo: {self.modelo}\"\n",
    "\n",
    "class Automovil(Vehiculo):\n",
    "    def __init__(self, marca, modelo, puertas):\n",
    "        super().__init__(marca, modelo)\n",
    "        self.puertas = puertas\n",
    "\n",
    "    def describir(self):\n",
    "        descripcion = super().describir()\n",
    "        return f\"{descripcion}, Puertas: {self.puertas}\"\n",
    "    \n",
    "    "
   ]
  },
  {
   "cell_type": "code",
   "execution_count": null,
   "id": "e1ce78b7",
   "metadata": {},
   "outputs": [],
   "source": [
    "# Uso de la clase Automovil\n",
    "coche = Automovil(\"Toyota\", \"Corolla\", 4)\n",
    "print(coche.describir())\n"
   ]
  },
  {
   "cell_type": "markdown",
   "id": "7c1cd545",
   "metadata": {},
   "source": [
    "# Ejercicio para resolver grupalmente 1:\n",
    "- Crea una clase Producto con atributos privados nombre, precio y cantidad.\n",
    "-  Implementa getters y setters con validaciones adecuadas.\n"
   ]
  },
  {
   "cell_type": "code",
   "execution_count": null,
   "id": "98df065f",
   "metadata": {},
   "outputs": [],
   "source": [
    "\n"
   ]
  },
  {
   "cell_type": "code",
   "execution_count": null,
   "id": "255266c4",
   "metadata": {},
   "outputs": [],
   "source": []
  },
  {
   "cell_type": "markdown",
   "id": "1e3f16ee",
   "metadata": {},
   "source": [
    "# Ejercicio para resolver grupalmente 2:\n",
    "- Crea una clase Camion que herede de Vehiculo y agrega el atributo capacidad_carga.\n",
    "- Sobreescribe el método describir."
   ]
  },
  {
   "cell_type": "code",
   "execution_count": null,
   "id": "577de404",
   "metadata": {},
   "outputs": [],
   "source": []
  },
  {
   "cell_type": "markdown",
   "id": "19799f3e",
   "metadata": {},
   "source": [
    "# Ejercicio Resuelto 3: Polimorfismo"
   ]
  },
  {
   "cell_type": "code",
   "execution_count": null,
   "id": "f7d03596",
   "metadata": {},
   "outputs": [],
   "source": [
    "class Animal:\n",
    "    def hablar(self):\n",
    "        pass\n",
    "\n",
    "class Perro(Animal):\n",
    "    def hablar(self):\n",
    "        return \"Guau!\"\n",
    "\n",
    "class Gato(Animal):\n",
    "    def hablar(self):\n",
    "        return \"Miau!\"\n",
    "\n",
    "animales = [Perro(), Gato()]\n",
    "for animal in animales:\n",
    "    print(animal.hablar())"
   ]
  },
  {
   "cell_type": "markdown",
   "id": "28148cb7",
   "metadata": {},
   "source": [
    "# Ejercicio para resolver grupalmente 3:\n",
    "- Define dos clases adicionales (Ave y Vaca) que hereden de Animal.\n",
    "- Implementa el método hablar de manera adecuada para cada animal."
   ]
  },
  {
   "cell_type": "code",
   "execution_count": null,
   "id": "0c1422eb",
   "metadata": {},
   "outputs": [],
   "source": []
  },
  {
   "cell_type": "markdown",
   "id": "f5fd9c24",
   "metadata": {},
   "source": [
    "# Ejercicio Resuelto 4: Abstracción"
   ]
  },
  {
   "cell_type": "code",
   "execution_count": null,
   "id": "d8c2fd47",
   "metadata": {},
   "outputs": [],
   "source": [
    "from abc import ABC, abstractmethod\n",
    "\n",
    "class Figura(ABC):\n",
    "    @abstractmethod\n",
    "    def area(self):\n",
    "        pass\n",
    "\n",
    "class Circulo(Figura):\n",
    "    def __init__(self, radio):\n",
    "        self.radio = radio\n",
    "\n",
    "    def area(self):\n",
    "        return 3.1416 * (self.radio ** 2)\n",
    "\n",
    "class Cuadrado(Figura):\n",
    "    def __init__(self, lado):\n",
    "        self.lado = lado\n",
    "\n",
    "    def area(self):\n",
    "        return self.lado ** 2\n",
    "\n",
    "# Uso de clases abstractas\n",
    "circulo = Circulo(5)\n",
    "cuadrado = Cuadrado(4)\n",
    "print(f\"Área del círculo: {circulo.area()}\")\n",
    "print(f\"Área del cuadrado: {cuadrado.area()}\")\n"
   ]
  },
  {
   "cell_type": "markdown",
   "id": "cd891575",
   "metadata": {},
   "source": [
    "\n",
    "# Ejercicio para resolver grupalmente 4:\n",
    "- Define una clase adicional Triangulo que herede de Figura.\n",
    "- Implementa el método area adecuadamente."
   ]
  }
 ],
 "metadata": {
  "language_info": {
   "name": "python"
  }
 },
 "nbformat": 4,
 "nbformat_minor": 5
}
