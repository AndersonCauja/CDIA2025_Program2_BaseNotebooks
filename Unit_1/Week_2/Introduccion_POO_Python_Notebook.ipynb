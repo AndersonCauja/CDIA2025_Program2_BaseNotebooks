{
    "cells": [
        {
            "cell_type": "markdown",
            "metadata": {},
            "source": [
                "# Introducción a la Programación Orientada a Objetos (POO) en Python\n",
                "\n",
                "Este cuaderno está basado en el documento *Introducción a la POO en Python* por José Andrés Zúñiga Cazorla.\n",
                "\n",
                "El objetivo es comprender los fundamentos del paradigma orientado a objetos y su aplicación en Python mediante clases y objetos."
            ]
        },
        {
            "cell_type": "markdown",
            "metadata": {},
            "source": [
                "## ¿Qué es la Programación Orientada a Objetos?\n",
                "\n",
                "- Paradigma basado en entidades del mundo real.\n",
                "- Facilita el diseño modular y el mantenimiento del software.\n",
                "- En lugar de funciones sueltas y estructuras, usamos **clases** y **objetos**.\n",
                "- Python soporta completamente la POO."
            ]
        },
        {
            "cell_type": "code",
            "execution_count": null,
            "metadata": {},
            "outputs": [],
            "source": [
                "class Orange:\n",
                "    def __init__(self):\n",
                "        self.basket = None\n",
                "\n",
                "class Basket:\n",
                "    def __init__(self):\n",
                "        self.oranges = []\n",
                "\n",
                "    def add_orange(self, orange):\n",
                "        self.oranges.append(orange)\n",
                "        orange.basket = self\n",
                "    def remove_orange(self, orange):\n",
                "        self.oranges.remove(orange)\n",
                "        orange.basket = None                \n",
                "    def __len__(self):                  \n",
                "        return len(self.oranges)    \n",
                "\n",
                "    def __getitem__(self, index):"
            ]
        },
        {
            "cell_type": "markdown",
            "metadata": {},
            "source": [
                "## Métodos de Clase: `sell()` y `discard()`"
            ]
        },
        {
            "cell_type": "code",
            "execution_count": null,
            "metadata": {},
            "outputs": [],
            "source": [
                "class Basket:\n",
                "    def __init__(self):\n",
                "        self.oranges = []\n",
                "        self.sold = False\n",
                "        self.discarded = False\n",
                "\n",
                "    def add_orange(self, orange):\n",
                "        self.oranges.append(orange)\n",
                "        orange.basket = self\n",
                "\n",
                "    def sell(self):\n",
                "    \n",
                "\n",
                "    def discard(self):\n"
            ]
        },
        {
            "cell_type": "markdown",
            "id": "aa14741f",
            "metadata": {},
            "source": [
                "## Método Tradicional \n"
            ]
        },
        {
            "cell_type": "code",
            "execution_count": null,
            "id": "7a54dda2",
            "metadata": {},
            "outputs": [],
            "source": [
                "class Color_VP:\n",
                "    def __init__(self, rgb_value: int, name: str) -> None:\n",
                "        self._rgb_value = rgb_value\n",
                "        if not name:\n",
                "            raise ValueError(f\"Invalid name {name!r}\")\n",
                "        self._name = name\n",
                "    \n",
                "    def _set_name(self, name: str) -> None:\n",
                "        if not name:\n",
                "            raise ValueError(f\"Invalid name {name!r}\")\n",
                "        self._name = name\n",
                "    \n",
                "    def _get_name(self) -> str:\n",
                "        return self._name\n",
                "\n"
            ]
        },
        {
            "cell_type": "markdown",
            "metadata": {},
            "source": [
                "## Propiedades con `@property`\n",
                "Usamos propiedades para controlar el acceso a atributos internos sin romper la interfaz pública."
            ]
        },
        {
            "cell_type": "code",
            "execution_count": null,
            "metadata": {},
            "outputs": [],
            "source": [
                "class NorwegianBlue:\n",
                "    def __init__(self, name: str):\n",
                "        self._name = name\n",
                "        self._state = \"resting\"\n",
                "\n",
                "    @property\n",
                "    def silly(self):\n",
                "        print(f\"Getting {self._name}'s State\")\n",
                "        return self._state\n",
                "\n",
                "    @silly.setter\n",
                "    def silly(self, state):\n",
                "        print(f\"Setting {self._name}'s State to {state!r}\")\n",
                "        self._state = state\n",
                "\n",
                "    @silly.deleter\n",
                "    def silly(self):\n",
                "        print(f\"{self._name} is pushing up daisies!\")\n",
                "        del self._state"
            ]
        }
    ],
    "metadata": {
        "kernelspec": {
            "display_name": "Program_2",
            "language": "python",
            "name": "python3"
        },
        "language_info": {
            "name": "python",
            "version": "3.12.9"
        }
    },
    "nbformat": 4,
    "nbformat_minor": 5
}
